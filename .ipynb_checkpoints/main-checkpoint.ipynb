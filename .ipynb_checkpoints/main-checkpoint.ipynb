{
 "cells": [
  {
   "cell_type": "code",
   "execution_count": 96,
   "id": "4e431ccb-8023-4290-ac51-dce497ca28c2",
   "metadata": {},
   "outputs": [],
   "source": [
    "import requests \n",
    "import pandas as pd \n",
    "import matplotlib.pyplot as plt"
   ]
  },
  {
   "cell_type": "code",
   "execution_count": 98,
   "id": "e7f253de-52a6-4baa-9963-8e41381c46f8",
   "metadata": {},
   "outputs": [],
   "source": [
    "#getting the response for apy \n",
    "url_fr = \"https://disease.sh/v3/covid-19/historical/France?lastdays=all\"\n",
    "url_it = \"https://disease.sh/v3/covid-19/historical/Italy?lastdays=all\"\n",
    "resp_fr = requests.get(url_fr) \n",
    "resp_it =  requests.get(url_it) "
   ]
  },
  {
   "cell_type": "code",
   "execution_count": 99,
   "id": "84c8a1f1-a495-4dc2-ac59-a3d521de627c",
   "metadata": {},
   "outputs": [
    {
     "data": {
      "text/plain": [
       "(None, None)"
      ]
     },
     "execution_count": 99,
     "metadata": {},
     "output_type": "execute_result"
    }
   ],
   "source": [
    "#asking for status\n",
    "resp_fr.raise_for_status(),resp_it.raise_for_status()"
   ]
  },
  {
   "cell_type": "code",
   "execution_count": 100,
   "id": "0a84731d-c1af-4d9d-83f5-caa6e5a3054a",
   "metadata": {},
   "outputs": [],
   "source": [
    "#converting into json and then into pd.data frame \n",
    "data_fr_js = resp_fr.json()\n",
    "data_it_js = resp_it.json()\n",
    "data_fr_js.keys()\n",
    "#Mettiamo in pandas dataframe \n",
    "data_it = pd.DataFrame( data_it_js[\"timeline\"] ) \n",
    "data_fr = pd.DataFrame( data_fr_js[\"timeline\"] ) #bisogna modificare qua non so come mai prende solo main land prob \n",
    "#in qualche modo i due hanno lo stesso numero di righe \n",
    "\n",
    "\n"
   ]
  },
  {
   "cell_type": "code",
   "execution_count": null,
   "id": "cf2c4b75-65b5-469a-a3bd-4ee9d6761967",
   "metadata": {},
   "outputs": [],
   "source": [
    "fig = plt.figure()\n",
    "ax1 = fig.add_subplot(2,2,1).plot(data_it[\"deaths\"])\n",
    "ax2 = fig.add_subplot(2,2,2).plot(data_it[\"cases\"])\n",
    "ax2 = fig.add_subplot(2,2,3).plot(data_it[\"recovered\"])"
   ]
  },
  {
   "cell_type": "code",
   "execution_count": null,
   "id": "afb7b885-2efa-4754-b87b-2a4723dcf5ff",
   "metadata": {},
   "outputs": [],
   "source": []
  }
 ],
 "metadata": {
  "kernelspec": {
   "display_name": "Python 3 (ipykernel)",
   "language": "python",
   "name": "python3"
  },
  "language_info": {
   "codemirror_mode": {
    "name": "ipython",
    "version": 3
   },
   "file_extension": ".py",
   "mimetype": "text/x-python",
   "name": "python",
   "nbconvert_exporter": "python",
   "pygments_lexer": "ipython3",
   "version": "3.12.3"
  }
 },
 "nbformat": 4,
 "nbformat_minor": 5
}

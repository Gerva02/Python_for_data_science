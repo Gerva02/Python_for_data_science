{
 "cells": [
  {
   "cell_type": "code",
   "execution_count": null,
   "id": "4e431ccb-8023-4290-ac51-dce497ca28c2",
   "metadata": {},
   "outputs": [],
   "source": [
    "import requests \n"
   ]
  },
  {
   "cell_type": "code",
   "execution_count": null,
   "id": "e7f253de-52a6-4baa-9963-8e41381c46f8",
   "metadata": {},
   "outputs": [],
   "source": [
    "url_fr = \"https://disease.sh/v3/covid-19/historical/France?lastdays=all\"\n",
    "url_it = \"https://disease.sh/v3/covid-19/historical/Italy?lastdays=all\"\n",
    "resp_fr = request.get(url_fr) \n",
    "resp_it =  request.get(url_it) "
   ]
  },
  {
   "cell_type": "code",
   "execution_count": null,
   "id": "84c8a1f1-a495-4dc2-ac59-a3d521de627c",
   "metadata": {},
   "outputs": [],
   "source": [
    "resp_fr.raise_for_status()"
   ]
  },
  {
   "cell_type": "code",
   "execution_count": null,
   "id": "0a84731d-c1af-4d9d-83f5-caa6e5a3054a",
   "metadata": {},
   "outputs": [],
   "source": [
    "resp_it.raise_for_status()"
   ]
  }
 ],
 "metadata": {
  "kernelspec": {
   "display_name": "Python 3 (ipykernel)",
   "language": "python",
   "name": "python3"
  },
  "language_info": {
   "codemirror_mode": {
    "name": "ipython",
    "version": 3
   },
   "file_extension": ".py",
   "mimetype": "text/x-python",
   "name": "python",
   "nbconvert_exporter": "python",
   "pygments_lexer": "ipython3",
   "version": "3.12.3"
  }
 },
 "nbformat": 4,
 "nbformat_minor": 5
}

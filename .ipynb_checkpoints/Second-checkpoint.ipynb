{
 "cells": [
  {
   "cell_type": "markdown",
   "id": "35753104-2f05-405f-bb0a-86501a850809",
   "metadata": {},
   "source": [
    "We fetched COVID-19 historical data for Italy and France, loaded it into JSON dataframes and converted it to pandas dataframes. "
   ]
  },
  {
   "cell_type": "code",
   "execution_count": null,
   "id": "77f41cf7-f782-41fb-ae2b-20850102813d",
   "metadata": {},
   "outputs": [],
   "source": [
    "import requests\n",
    "import pandas as pd\n",
    "import matplotlib.pyplot as plt\n",
    "import seaborn as sns\n",
    "from matplotlib.dates import DateFormatter, AutoDateLocator\n",
    "\n",
    "\n",
    "url_fr = \"https://disease.sh/v3/covid-19/historical/France?lastdays=all\"\n",
    "url_it = \"https://disease.sh/v3/covid-19/historical/Italy?lastdays=all\"\n",
    "\n",
    "resp_fr = requests.get(url_fr)\n",
    "resp_it = requests.get(url_it)\n",
    "\n",
    "resp_fr.raise_for_status()\n",
    "resp_it.raise_for_status()\n",
    "\n",
    "data_fr_js = resp_fr.json()\n",
    "data_it_js = resp_it.json()\n",
    "\n",
    "data_it = pd.DataFrame(data_it_js[\"timeline\"])\n",
    "data_fr = pd.DataFrame(data_fr_js[\"timeline\"])\n"
   ]
  },
  {
   "cell_type": "code",
   "execution_count": null,
   "id": "3f651468-8b62-4da7-bce6-efce97a6c357",
   "metadata": {},
   "outputs": [],
   "source": [
    "print(data_fr.isnull().values.any()) \n",
    "print(data_it.isnull().values.any()) "
   ]
  },
  {
   "cell_type": "code",
   "execution_count": null,
   "id": "1dbb49fc-8d37-4065-ba34-712e62700806",
   "metadata": {},
   "outputs": [],
   "source": [
    "print(data_it.index.duplicated().sum())\n",
    "print(data_fr.index.duplicated().sum())\n",
    "#stampa il numero di volte in cui una data è ripetuta"
   ]
  },
  {
   "cell_type": "markdown",
   "id": "28798ff3-efb0-4a96-9ef7-9a45e427704e",
   "metadata": {},
   "source": [
    "By performing a general analysis of the dataset using the describe command, we encountered an issue. Specifically, for the \"recovered\" variable in both France and Italy, the median is significantly different from the mean. In particular, the value of zero for a cumulative variable—such as the number of recovered individuals—does not make logical sense. Further investigation of the dataset revealed the presence of null values. After 08/05/2021, the recovered data for both countries consist only of zeros."
   ]
  },
  {
   "cell_type": "code",
   "execution_count": null,
   "id": "a6c6fa25-3d92-4612-ab24-f5e53af0aea3",
   "metadata": {},
   "outputs": [],
   "source": [
    "print(data_it.describe()) \n",
    "print(data_fr.describe())"
   ]
  },
  {
   "cell_type": "code",
   "execution_count": null,
   "id": "56f45712-3c15-474d-b836-e15971e8ef5b",
   "metadata": {},
   "outputs": [],
   "source": [
    "data_fr.index = pd.to_datetime(data_fr.index, format=\"%m/%d/%y\")\n",
    "data_it.index = pd.to_datetime(data_it.index, format=\"%m/%d/%y\")\n",
    "\n",
    "# Creare il grafico per i dati di Italia e Francia\n",
    "fig, axes = plt.subplots(3, 1, figsize=(10, 15), sharex=True)\n",
    "\n",
    "# Formattazione dell'asse x\n",
    "date_locator = AutoDateLocator()\n",
    "date_formatter = DateFormatter(\"%m/%d/%y\")\n",
    "\n",
    "# Dati di decessi (Italia vs Francia)\n",
    "axes[0].plot(data_it.index, data_it[\"deaths\"], label=\"Italy Deaths\", color=\"green\")\n",
    "axes[0].plot(data_fr.index, data_fr[\"deaths\"], label=\"France Deaths\", color=\"blue\")\n",
    "axes[0].set_title(\"Deaths (Italy vs France)\")\n",
    "axes[0].legend()\n",
    "\n",
    "# Dati di casi (Italia vs Francia)\n",
    "axes[1].plot(data_it.index, data_it[\"cases\"], label=\"Italy Cases\", color=\"green\")\n",
    "axes[1].plot(data_fr.index, data_fr[\"cases\"], label=\"France Cases\", color=\"blue\")\n",
    "axes[1].set_title(\"Cases (Italy vs France)\")\n",
    "axes[1].legend()\n",
    "\n",
    "# Dati di guarigioni (Italia vs Francia)\n",
    "axes[2].plot(data_it.index, data_it[\"recovered\"], label=\"Italy Recovered\", color=\"green\")\n",
    "axes[2].plot(data_fr.index, data_fr[\"recovered\"], label=\"France Recovered\", color=\"blue\")\n",
    "axes[2].set_title(\"Recovered (Italy vs France)\")\n",
    "axes[2].legend()\n",
    "\n",
    "# Configurare l'asse x per tutti i subplot\n",
    "for ax in axes:\n",
    "    ax.xaxis.set_major_locator(date_locator)\n",
    "    ax.xaxis.set_major_formatter(date_formatter)\n",
    "    ax.grid(True)\n",
    "\n",
    "plt.xticks(rotation=45)  # Ruota le etichette dell'asse x per renderle leggibili\n",
    "plt.tight_layout()\n",
    "plt.show()"
   ]
  },
  {
   "cell_type": "markdown",
   "id": "4330f68d-b960-420b-a7fd-0166f4a61acd",
   "metadata": {},
   "source": [
    "We can see that the number of recovered, both in Italy and France, suddenly drops to zero around August 2021 and remains zero thereafter. We will have to handle this.\n",
    "Moreover, another particular feature can be observed, except for the sudden drop in recovered, all the graphs seem to be increasing, so it is fair to assume that the data is cumulative.\n",
    "NdT: we actually looked online for graphs of cumulative cases, deaths, recovered, and they are very similar to the ones we are working with (Disease.shdocs)"
   ]
  },
  {
   "cell_type": "code",
   "execution_count": null,
   "id": "34016785-9c3b-47a8-a49a-291b88458441",
   "metadata": {},
   "outputs": [],
   "source": [
    "zero_recovered_it = data_it[(data_it[\"recovered\"] == 0) & (data_it.index > \"31-05-2021\")].index.min()\n",
    "zero_recovered_fr = data_fr[(data_it[\"recovered\"] == 0) & (data_fr.index > \"31-05-2021\")].index.min()\n",
    "\n",
    "print(zero_recovered_it)\n",
    "print(zero_recovered_fr)"
   ]
  },
  {
   "cell_type": "markdown",
   "id": "d67ad10e-9c24-4905-bdb5-49a329d1330b",
   "metadata": {},
   "source": [
    "We start the data cleaning process by eliminating all the zero-valued data in the recovered for bouth dataset from summer 2021."
   ]
  },
  {
   "cell_type": "code",
   "execution_count": null,
   "id": "27fa5dd9-ea49-4b43-8a6a-2b01bf53b0e2",
   "metadata": {},
   "outputs": [],
   "source": [
    "cutoff_date = \"7/5/21\"\n",
    "data_fr_cut = data_fr[data_fr.index <= cutoff_date]\n",
    "data_it_cut = data_it[data_it.index <= cutoff_date]"
   ]
  },
  {
   "cell_type": "markdown",
   "id": "13a40ac8-5c8c-4d49-92ce-2de987dd6157",
   "metadata": {},
   "source": [
    "We continue by checking the consistency of the data, in particular, we must:\n",
    "- Check that there are no missing or duplicated values\n",
    "- Check that the data is actually cumulative, i.e. they are non-decreasing\n",
    "- Check that the the cumulative data is consistent, i.e. the number of deaths and the number of recovered cannot be greater than the number of cases"
   ]
  },
  {
   "cell_type": "code",
   "execution_count": null,
   "id": "2a3f75c9-7a2a-48f6-8f0c-58ae4236b4e6",
   "metadata": {},
   "outputs": [],
   "source": [
    "fig, ax = plt.subplots(figsize=(10, 5))\n",
    "\n",
    "ax.plot(data_it_cut.index, data_it_cut[\"recovered\"], label=\"Italy Recovered\", color=\"green\")\n",
    "ax.plot(data_fr_cut.index, data_fr_cut[\"recovered\"], label=\"France Recovered\", color=\"blue\")\n",
    "ax.set_title(\"Recovered (Italy vs France)\")\n",
    "ax.legend()\n",
    "\n",
    "# Configurare l'asse x\n",
    "ax.xaxis.set_major_locator(date_locator)\n",
    "ax.xaxis.set_major_formatter(date_formatter)\n",
    "ax.grid(True)\n",
    "\n",
    "plt.xticks(rotation=45)  # Ruota le etichette dell'asse x per renderle leggibili\n",
    "plt.tight_layout()\n",
    "plt.show()"
   ]
  },
  {
   "cell_type": "markdown",
   "id": "2607939d-1d68-4989-bbdb-ad912c78f8e1",
   "metadata": {},
   "source": [
    "The three variables used above are cumulative. We use the `.diff` command to observe the daily trend of the values."
   ]
  },
  {
   "cell_type": "code",
   "execution_count": null,
   "id": "01cd173b-f410-41d6-bee4-aa329833dbdb",
   "metadata": {},
   "outputs": [],
   "source": [
    "anomalous_days_it = data_it[data_it[\"deaths\"] > data_it[\"cases\"]]\n",
    "print(anomalous_days_it[[\"deaths\", \"cases\"]])\n",
    "anomalous_days_fr = data_fr[data_fr[\"deaths\"] > data_fr[\"cases\"]]\n",
    "print(anomalous_days_fr[[\"deaths\", \"cases\"]])"
   ]
  },
  {
   "cell_type": "code",
   "execution_count": null,
   "id": "bb57ebbf-0feb-42c5-851d-06a803bd110a",
   "metadata": {},
   "outputs": [],
   "source": [
    "anomalous_days_it = data_it[data_it[\"recovered\"] > data_it[\"cases\"]]\n",
    "print(anomalous_days_it[[\"recovered\", \"cases\"]])\n",
    "anomalous_days_fr = data_fr[data_fr[\"recovered\"] > data_fr[\"cases\"]]\n",
    "print(anomalous_days_fr[[\"recovered\", \"cases\"]])"
   ]
  },
  {
   "cell_type": "code",
   "execution_count": null,
   "id": "8dc16f4e-de98-4b06-9dcb-cf26197b3435",
   "metadata": {},
   "outputs": [],
   "source": [
    "# here substitute recovered data only before \n",
    "#here we go through each observation for each data set \n",
    "def substitute_missing(df, column_name):\n",
    "    dates_errors = []\n",
    "    for i in range(1, len(df)):\n",
    "        if df.loc[df.index[i], column_name] < df.loc[df.index[i-1], column_name]:\n",
    "            df.loc[df.index[i], column_name] = df.loc[df.index[i-1], column_name]\n",
    "            dates_errors.append(i)\n",
    "    return df[column_name] , dates_errors\n",
    "\n",
    "\n",
    "data_it.loc[:,\"cases\"], mistakes_cases_it  = substitute_missing(data_it, \"cases\")\n",
    "data_it.loc[: , \"deaths\"], mistakes_death_it  = substitute_missing(data_it, \"deaths\")\n",
    "data_it_cut.loc[: ,\"recovered\"], mistakes_recovered_it  = substitute_missing(data_it, \"recovered\")\n",
    "\n",
    "data_fr.loc[:,\"cases\"], mistakes_cases_fr  = substitute_missing(data_fr, \"cases\")\n",
    "data_fr.loc[:, \"deaths\"], mistakes_death_fr  = substitute_missing(data_fr, \"deaths\") \n",
    "data_fr_cut.loc[: ,\"recovered\"], mistakes_recovered_it =  substitute_missing(data_fr, \"recovered\")\n",
    "\n",
    "mistakes_cases_it, mistakes_death_it, mistakes_recovered_it ,mistakes_cases_fr , mistakes_death_fr , mistakes_recovered_fr"
   ]
  },
  {
   "cell_type": "code",
   "execution_count": null,
   "id": "5fa3f571-ff4c-46a8-b37a-d193bc63c0fe",
   "metadata": {},
   "outputs": [],
   "source": [
    "data_it[\"daily_deaths\"] = data_it[\"deaths\"].diff()\n",
    "data_fr[\"daily_deaths\"] = data_fr[\"deaths\"].diff()\n",
    "\n",
    "plt.figure(figsize=(10, 5))\n",
    "plt.plot(data_it.index, data_it[\"daily_deaths\"], label=\"Italy Daily Deaths\", color=\"green\")\n",
    "plt.title(\"Daily Deaths in Italy\")\n",
    "plt.xlabel(\"Date\")\n",
    "plt.ylabel(\"Deaths per Day\")\n",
    "plt.legend()\n",
    "plt.grid()\n",
    "plt.show()\n",
    "\n",
    "plt.figure(figsize=(10, 5))\n",
    "plt.plot(data_fr.index, data_fr[\"daily_deaths\"], label=\"France Daily Deaths\", color=\"blue\")\n",
    "plt.title(\"Daily Deaths in France\")\n",
    "plt.xlabel(\"Date\")\n",
    "plt.ylabel(\"Deaths per Day\")\n",
    "plt.legend()\n",
    "plt.grid()\n",
    "plt.show()"
   ]
  },
  {
   "cell_type": "markdown",
   "id": "ffa1849e-2ee8-410e-88b4-4f4fb951446d",
   "metadata": {},
   "source": [
    "The jagged lines in our data are likely a result of our data cleaning process, which naively replaces erroneous values with those from the previous day. This approach is problematic because it causes daily case, death, and recovery counts to appear as zero, distorting the actual trends, to have a clearer picture of what is going on each time we will provide a smoothed curve that approximates better the trends present in our data."
   ]
  },
  {
   "cell_type": "code",
   "execution_count": null,
   "id": "52a7f382-8f1c-4272-b46c-71ea8a865206",
   "metadata": {},
   "outputs": [],
   "source": [
    "smoothed_data_it = data_it[\"daily_deaths\"].ewm( alpha = 0.01 , adjust=False).mean()\n",
    "smoothed_data_fr = data_it[\"daily_deaths\"].ewm( alpha = 0.01 , adjust=False).mean()\n",
    "\n",
    "plt.figure(figsize=(10, 5))\n",
    "plt.plot(data_it.index, smoothed_data_it, label=\"Italy Daily Deaths\", color=\"green\")\n",
    "plt.title(\"Smoothed Daily Deaths in Italy \")\n",
    "plt.xlabel(\"Date\")\n",
    "plt.ylabel(\"Deaths per Day\")\n",
    "plt.legend()\n",
    "plt.grid()\n",
    "plt.show()\n",
    "\n",
    "plt.figure(figsize=(10, 5))\n",
    "plt.plot(data_it.index, smoothed_data_fr, label=\"Italy Daily Deaths\", color=\"green\")\n",
    "plt.title(\"Smoothed Daily Deaths in France \")\n",
    "plt.xlabel(\"Date\")\n",
    "plt.ylabel(\"Deaths per Day\")\n",
    "plt.legend()\n",
    "plt.grid()\n",
    "plt.show()"
   ]
  },
  {
   "cell_type": "code",
   "execution_count": null,
   "id": "2a79b511-1710-4964-bb45-d1486d42fa25",
   "metadata": {},
   "outputs": [],
   "source": [
    "data_it[\"daily_cases\"] = data_it[\"cases\"].diff()\n",
    "data_fr[\"daily_cases\"] = data_fr[\"cases\"].diff()\n",
    "\n",
    "plt.figure(figsize=(10, 5))\n",
    "plt.plot(data_it.index, data_it[\"daily_cases\"], label=\"Italy Daily Cases\", color=\"green\")\n",
    "plt.title(\"Daily Cases in Italy\")\n",
    "plt.xlabel(\"Date\")\n",
    "plt.ylabel(\"Cases per Day\")\n",
    "plt.legend()\n",
    "plt.grid()\n",
    "plt.show()\n",
    "\n",
    "plt.figure(figsize=(10, 5))\n",
    "plt.plot(data_fr.index, data_fr[\"daily_cases\"], label=\"France Daily Cases\", color=\"blue\")\n",
    "plt.title(\"Daily Cases in France\")\n",
    "plt.xlabel(\"Date\")\n",
    "plt.ylabel(\"Cases per Day\")\n",
    "plt.legend()\n",
    "plt.grid()\n",
    "plt.show()"
   ]
  },
  {
   "cell_type": "code",
   "execution_count": null,
   "id": "023949b6-a2c0-45d9-bf70-fbffed0a1019",
   "metadata": {},
   "outputs": [],
   "source": [
    "data_it_cut = data_it_cut.copy()\n",
    "data_it_cut[\"daily_recovered\"] = data_it_cut[\"recovered\"].diff()\n",
    "data_fr_cut = data_fr_cut.copy()\n",
    "data_fr_cut[\"daily_recovered\"] = data_fr_cut[\"recovered\"].diff()\n",
    "\n",
    "plt.figure(figsize=(10, 5))\n",
    "plt.plot(data_it_cut.index, data_it_cut[\"daily_recovered\"], label=\"Italy Daily Recovered\", color=\"green\")\n",
    "plt.title(\"Daily Recovered in Italy and France\")\n",
    "plt.xlabel(\"Date\")\n",
    "plt.ylabel(\"Cases per Day\")\n",
    "plt.legend()\n",
    "plt.grid()\n",
    "plt.show()\n",
    "\n",
    "plt.figure(figsize=(10, 5))\n",
    "plt.plot(data_fr_cut.index, data_fr_cut[\"daily_recovered\"], label=\"France Daily Recovered\", color=\"blue\")\n",
    "plt.title(\"Daily Recovered in Italy and France\")\n",
    "plt.xlabel(\"Date\")\n",
    "plt.ylabel(\"Cases per Day\")\n",
    "plt.legend()\n",
    "plt.grid()\n",
    "plt.show()"
   ]
  },
  {
   "cell_type": "markdown",
   "id": "27f7fc0b-5402-4594-81b9-34e4550a0e96",
   "metadata": {},
   "source": [
    "Let's now focus on analyzing the weekly data."
   ]
  },
  {
   "cell_type": "code",
   "execution_count": null,
   "id": "8b7773a1-78cf-4932-b354-7e698dcba759",
   "metadata": {},
   "outputs": [],
   "source": [
    "data_it = data_it.copy()\n",
    "data_it.loc[:, \"weekly_deaths\"] = data_it[\"deaths\"].diff(periods=7)\n",
    "data_fr = data_fr.copy()\n",
    "data_fr.loc[:, \"weekly_deaths\"] = data_fr[\"deaths\"].diff(periods=7)\n",
    "\n",
    "plt.figure(figsize=(10, 5))\n",
    "plt.plot(data_it.index, data_it[\"weekly_deaths\"], label=\"Italy Weekly Deaths\", color=\"green\")\n",
    "plt.title(\"Weekly Deaths in Italy\")\n",
    "plt.xlabel(\"Date\")\n",
    "plt.ylabel(\"Deaths per Week\")\n",
    "plt.legend()\n",
    "plt.grid()\n",
    "plt.show()\n",
    "\n",
    "plt.figure(figsize=(10, 5))\n",
    "plt.plot(data_fr.index, data_fr[\"weekly_deaths\"], label=\"France Weekly Deaths\", color=\"blue\")\n",
    "plt.title(\"Weekly Deaths in France\")\n",
    "plt.xlabel(\"Date\")\n",
    "plt.ylabel(\"Deaths per Week\")\n",
    "plt.legend()\n",
    "plt.grid()\n",
    "plt.show()"
   ]
  },
  {
   "cell_type": "code",
   "execution_count": null,
   "id": "070c9d22-73bd-4302-a6f1-cfe10855114a",
   "metadata": {},
   "outputs": [],
   "source": [
    "data_it[\"weekly_cases\"] = data_it[\"cases\"].diff(periods=7)\n",
    "data_fr[\"weekly_cases\"] = data_fr[\"cases\"].diff(periods=7)\n",
    "\n",
    "plt.figure(figsize=(10, 5))\n",
    "plt.plot(data_it.index, data_it[\"weekly_cases\"], label=\"Italy Weekly Cases\", color=\"green\")\n",
    "plt.title(\"Weekly Cases in Italy and France\")\n",
    "plt.xlabel(\"Date\")\n",
    "plt.ylabel(\"Cases per Week\")\n",
    "plt.legend()\n",
    "plt.grid()\n",
    "plt.show()\n",
    "\n",
    "plt.figure(figsize=(10, 5))\n",
    "plt.plot(data_fr.index, data_fr[\"weekly_cases\"], label=\"France Weekly Cases\", color=\"blue\")\n",
    "plt.title(\"Weekly Cases in Italy and France\")\n",
    "plt.xlabel(\"Date\")\n",
    "plt.ylabel(\"Cases per Week\")\n",
    "plt.legend()\n",
    "plt.grid()\n",
    "plt.show()"
   ]
  },
  {
   "cell_type": "code",
   "execution_count": null,
   "id": "21b848dc-d377-4a96-a63f-ae0e09de5a4a",
   "metadata": {},
   "outputs": [],
   "source": [
    "data_it_cut = data_it_cut.copy()\n",
    "data_fr_cut = data_fr_cut.copy()\n",
    "data_it_cut[\"weekly_recovered\"] = data_it_cut[\"recovered\"].diff(periods=7)\n",
    "data_fr_cut[\"weekly_recovered\"] = data_fr_cut[\"recovered\"].diff(periods=7)\n",
    "\n",
    "plt.figure(figsize=(10, 5))\n",
    "plt.plot(data_it_cut.index, data_it_cut[\"weekly_recovered\"], label=\"Italy Weekly Recovered\", color=\"green\")\n",
    "plt.title(\"Weekly Recovered in Italy \")\n",
    "plt.xlabel(\"Date\")\n",
    "plt.ylabel(\"Recovered per Week\")\n",
    "plt.legend()\n",
    "plt.grid()\n",
    "plt.show()\n",
    "\n",
    "plt.figure(figsize=(10, 5))\n",
    "plt.plot(data_fr_cut.index, data_fr_cut[\"weekly_recovered\"], label=\"France Weekly Cases\", color=\"blue\")\n",
    "plt.title(\"Weekly Recovered in France\")\n",
    "plt.xlabel(\"Date\")\n",
    "plt.ylabel(\"Recovered per Week\")\n",
    "plt.legend()\n",
    "plt.grid()\n",
    "plt.show()"
   ]
  },
  {
   "cell_type": "markdown",
   "id": "ce84ef3e-636e-428a-8d67-d37577c62edf",
   "metadata": {},
   "source": [
    "It can be observed that the graphs exhibit similar patterns. Special attention can be given to the \"cases\"-\"recovered\" ratio, as the latter represents the first shift by a few weeks. This can be explained by recalling that the time between becoming positive and recovering (returning to negative) typically takes a few weeks.\n"
   ]
  },
  {
   "cell_type": "markdown",
   "id": "c6ebc5b9-d030-41fa-9242-7b4559b50a76",
   "metadata": {},
   "source": [
    "In general, the behaviors between France and Italy are comparable, except for the \"recovered\" variable."
   ]
  },
  {
   "cell_type": "code",
   "execution_count": null,
   "id": "bb077f83-7d9a-423d-9495-6b8f53f840e6",
   "metadata": {},
   "outputs": [],
   "source": [
    "sns.set_theme(style=\"ticks\", palette=\"pastel\")\n",
    "df = pd.DataFrame({\n",
    "    \"deaths\": pd.concat([data_it[\"daily_deaths\"], data_fr[\"daily_deaths\"]], ignore_index=True),\n",
    "    \"country\": [\"Italy\"] * len(data_it) + [\"France\"] * len(data_fr)\n",
    "})\n",
    "\n",
    "plt.figure(figsize=(10, 6))\n",
    "sns.boxplot(x=\"country\", y=\"deaths\", data=df, palette=[\"green\", \"lightblue\"], hue=\"country\")\n",
    "\n",
    "# Miglioriamo l'aspetto del grafico\n",
    "sns.despine(offset=10, trim=True)\n",
    "plt.title(\"Boxpolots of Daily Deaths in Italy and France\")\n",
    "plt.xlabel(\"Country\")\n",
    "plt.ylabel(\"Number of Daily Deaths\")\n",
    "\n",
    "# Mostriamo il grafico\n",
    "plt.show()"
   ]
  },
  {
   "cell_type": "code",
   "execution_count": null,
   "id": "35e55077-bbc2-4430-838c-4357b6483830",
   "metadata": {},
   "outputs": [],
   "source": [
    "sns.set_theme(style=\"ticks\", palette=\"pastel\")\n",
    "df = pd.DataFrame({\n",
    "    \"cases\": pd.concat([data_it[\"daily_cases\"], data_fr[\"daily_cases\"]], ignore_index=True),\n",
    "    \"country\": [\"Italy\"] * len(data_it) + [\"France\"] * len(data_fr)\n",
    "})\n",
    "\n",
    "plt.figure(figsize=(10, 6))\n",
    "sns.boxplot(x=\"country\", y=\"cases\", data=df, palette=[\"green\", \"lightblue\"], hue=\"country\")\n",
    "\n",
    "# Miglioriamo l'aspetto del grafico\n",
    "sns.despine(offset=10, trim=True)\n",
    "plt.title(\"Boxpolots of Daily Cases in Italy and France\")\n",
    "plt.xlabel(\"Country\")\n",
    "plt.ylabel(\"Number of Daily Cases\")\n",
    "\n",
    "# Mostriamo il grafico\n",
    "plt.show()"
   ]
  },
  {
   "cell_type": "code",
   "execution_count": null,
   "id": "4d3cb9e9-300e-476e-bce3-9c3255a25dac",
   "metadata": {},
   "outputs": [],
   "source": [
    "sns.set_theme(style=\"ticks\", palette=\"pastel\")\n",
    "df = pd.DataFrame({\n",
    "    \"recovered\": pd.concat([data_it_cut[\"daily_recovered\"], data_fr_cut[\"daily_recovered\"]], ignore_index=True),\n",
    "    \"country\": [\"Italy\"] * len(data_it_cut) + [\"France\"] * len(data_fr_cut)\n",
    "})\n",
    "\n",
    "plt.figure(figsize=(10, 6))\n",
    "sns.boxplot(x=\"country\", y=\"recovered\", data=df, palette=[\"green\", \"lightblue\"], hue=\"country\")\n",
    "\n",
    "# Miglioriamo l'aspetto del grafico\n",
    "sns.despine(offset=10, trim=True)\n",
    "plt.title(\"Boxpolots of Daily Recovered in Italy and France\")\n",
    "plt.xlabel(\"Country\")\n",
    "plt.ylabel(\"Number of Daily Recovered\")\n",
    "\n",
    "# Mostriamo il grafico\n",
    "plt.show()"
   ]
  },
  {
   "cell_type": "markdown",
   "id": "b1ac27b9-f9ed-4bf3-9d74-a77517ed9aff",
   "metadata": {},
   "source": [
    "we use the cut data set for recovereds "
   ]
  },
  {
   "cell_type": "code",
   "execution_count": null,
   "id": "1f640a32-bcc7-448f-98ea-3636152c946f",
   "metadata": {},
   "outputs": [],
   "source": []
  }
 ],
 "metadata": {
  "kernelspec": {
   "display_name": "Python 3 (ipykernel)",
   "language": "python",
   "name": "python3"
  },
  "language_info": {
   "codemirror_mode": {
    "name": "ipython",
    "version": 3
   },
   "file_extension": ".py",
   "mimetype": "text/x-python",
   "name": "python",
   "nbconvert_exporter": "python",
   "pygments_lexer": "ipython3",
   "version": "3.12.3"
  }
 },
 "nbformat": 4,
 "nbformat_minor": 5
}

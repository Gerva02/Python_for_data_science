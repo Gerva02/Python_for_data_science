{
 "cells": [
  {
   "cell_type": "code",
   "execution_count": null,
   "id": "77f41cf7-f782-41fb-ae2b-20850102813d",
   "metadata": {},
   "outputs": [],
   "source": [
    "import requests\n",
    "import pandas as pd\n",
    "import matplotlib.pyplot as plt\n",
    "from matplotlib.dates import DateFormatter, AutoDateLocator\n",
    "\n",
    "\n",
    "url_fr = \"https://disease.sh/v3/covid-19/historical/France?lastdays=all\"\n",
    "url_it = \"https://disease.sh/v3/covid-19/historical/Italy?lastdays=all\"\n",
    "\n",
    "resp_fr = requests.get(url_fr)\n",
    "resp_it = requests.get(url_it)\n",
    "\n",
    "resp_fr.raise_for_status()\n",
    "resp_it.raise_for_status()\n",
    "\n",
    "data_fr_js = resp_fr.json()\n",
    "data_it_js = resp_it.json()\n",
    "\n",
    "data_it = pd.DataFrame(data_it_js[\"timeline\"])\n",
    "\n",
    "# Convertire le date in formato datetime per l'asse x\n",
    "data_it[\"date\"] = pd.to_datetime(data_it.index)"
   ]
  },
  {
   "cell_type": "code",
   "execution_count": null,
   "id": "56f45712-3c15-474d-b836-e15971e8ef5b",
   "metadata": {},
   "outputs": [],
   "source": [
    "\n",
    "\n",
    "# Creare il grafico per i dati italiani\n",
    "fig, axes = plt.subplots(3, 1, figsize=(10, 8), sharex=True)\n",
    "\n",
    "# Formattazione dell'asse x\n",
    "date_locator = AutoDateLocator()\n",
    "date_formatter = DateFormatter(\"%Y-%m-%d\")\n",
    "\n",
    "# Dati di decessi\n",
    "axes[0].plot(data_it[\"date\"], data_it[\"deaths\"], label=\"Deaths\", color=\"red\")\n",
    "axes[0].set_title(\"Deaths (Italy)\")\n",
    "axes[0].legend()\n",
    "\n",
    "# Dati di casi\n",
    "axes[1].plot(data_it[\"date\"], data_it[\"cases\"], label=\"Cases\", color=\"blue\")\n",
    "axes[1].set_title(\"Cases (Italy)\")\n",
    "axes[1].legend()\n",
    "\n",
    "# Dati di guarigioni\n",
    "axes[2].plot(data_it[\"date\"], data_it[\"recovered\"], label=\"Recovered\", color=\"green\")\n",
    "axes[2].set_title(\"Recovered (Italy)\")\n",
    "axes[2].legend()\n",
    "\n",
    "\n",
    "# Configurare l'asse x per tutti i subplot\n",
    "for ax in axes:\n",
    "    ax.xaxis.set_major_locator(date_locator)\n",
    "    ax.xaxis.set_major_formatter(date_formatter)\n",
    "    ax.grid(True)\n",
    "\n",
    "plt.xticks(rotation=45)  # Ruota le etichette dell'asse x per renderle leggibili\n",
    "plt.tight_layout()\n",
    "plt.show()"
   ]
  }
 ],
 "metadata": {
  "kernelspec": {
   "display_name": "Python 3 (ipykernel)",
   "language": "python",
   "name": "python3"
  },
  "language_info": {
   "codemirror_mode": {
    "name": "ipython",
    "version": 3
   },
   "file_extension": ".py",
   "mimetype": "text/x-python",
   "name": "python",
   "nbconvert_exporter": "python",
   "pygments_lexer": "ipython3",
   "version": "3.10.9"
  }
 },
 "nbformat": 4,
 "nbformat_minor": 5
}
